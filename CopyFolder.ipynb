{
 "cells": [
  {
   "cell_type": "code",
   "execution_count": null,
   "id": "cb061bc9",
   "metadata": {},
   "outputs": [],
   "source": []
  },
  {
   "cell_type": "code",
   "execution_count": 21,
   "id": "77e2faee",
   "metadata": {},
   "outputs": [
    {
     "name": "stdout",
     "output_type": "stream",
     "text": [
      "3D blow\n"
     ]
    }
   ],
   "source": [
    "import os, shutil\n",
    "def copytree(src, dst, symlinks=False, ignore=None):\n",
    "    for item in os.listdir(src):\n",
    "        s = os.path.join(src, item)\n",
    "        d = os.path.join(dst, item)\n",
    "        if os.path.isdir(s):\n",
    "            shutil.copytree(s, d, symlinks, ignore)\n",
    "        else:\n",
    "            shutil.copy2(s, d)\n",
    "            \n",
    "\n",
    "\n",
    "def create_dir(path):\n",
    "    if not os.path.exists(path):\n",
    "        os.makedirs(path)\n",
    "\n",
    "path = \"C:\\\\Users\\\\vanch\\\\trycopy\"\n",
    "create_dir(path)\n",
    "\n",
    "src = \"C:\\\\Users\\\\vanch\\\\Downloads\\\\SPOD\"\n",
    "#copytree(src, path)\n",
    "\n",
    "import numpy as np\n",
    "import random\n",
    "index = random.choice(list(os.listdir(src)))\n",
    "item = index\n",
    "print(index)\n",
    "def copyfold(src, dst,item, symlinks=False, ignore=None):\n",
    "    s = os.path.join(src, item)\n",
    "    d = os.path.join(dst, item)\n",
    "    if os.path.isdir(s):\n",
    "        shutil.copytree(s, d, symlinks, ignore)\n",
    "    else:\n",
    "        shutil.copy2(s, d)\n",
    "copyfold(src,path,item)\n",
    "    \n"
   ]
  },
  {
   "cell_type": "code",
   "execution_count": 22,
   "id": "3d62094b",
   "metadata": {},
   "outputs": [],
   "source": [
    "target_path = os.path.join(path, item)\n",
    "import stat\n",
    "shutil.rmtree(target_path)\n",
    "# os.chmod(target_path, stat.S_IWRITE)\n",
    "# os.remove(target_path)"
   ]
  },
  {
   "cell_type": "code",
   "execution_count": null,
   "id": "c35ed2ec",
   "metadata": {},
   "outputs": [],
   "source": []
  }
 ],
 "metadata": {
  "kernelspec": {
   "display_name": "Python 3 (ipykernel)",
   "language": "python",
   "name": "python3"
  },
  "language_info": {
   "codemirror_mode": {
    "name": "ipython",
    "version": 3
   },
   "file_extension": ".py",
   "mimetype": "text/x-python",
   "name": "python",
   "nbconvert_exporter": "python",
   "pygments_lexer": "ipython3",
   "version": "3.7.13"
  }
 },
 "nbformat": 4,
 "nbformat_minor": 5
}
