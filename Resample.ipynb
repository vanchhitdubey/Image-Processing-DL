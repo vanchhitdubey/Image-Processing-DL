{
 "cells": [
  {
   "cell_type": "code",
   "execution_count": null,
   "id": "a1db7a2f",
   "metadata": {},
   "outputs": [],
   "source": [
    "def random_sample(x,y,n):\n",
    "    import numpy as np\n",
    "    np.random.seed(42)\n",
    "    resample_x = []; resample_y =[]\n",
    "    import random\n",
    "    t = np.arange(1,len(x),1)\n",
    "    nx= random.sample(list(t), n)\n",
    "    for i in nx:\n",
    "        resample_x.append(x[i])\n",
    "        resample_y.append(y[i])\n",
    "    return (resample_x, resample_y)\n",
    "    "
   ]
  }
 ],
 "metadata": {
  "kernelspec": {
   "display_name": "Python 3 (ipykernel)",
   "language": "python",
   "name": "python3"
  },
  "language_info": {
   "codemirror_mode": {
    "name": "ipython",
    "version": 3
   },
   "file_extension": ".py",
   "mimetype": "text/x-python",
   "name": "python",
   "nbconvert_exporter": "python",
   "pygments_lexer": "ipython3",
   "version": "3.7.13"
  }
 },
 "nbformat": 4,
 "nbformat_minor": 5
}
