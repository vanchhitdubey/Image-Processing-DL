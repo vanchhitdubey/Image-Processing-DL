{
 "cells": [
  {
   "cell_type": "code",
   "execution_count": 1,
   "id": "a9c9288b",
   "metadata": {},
   "outputs": [],
   "source": [
    "import pandas as pd\n",
    "import matplotlib.pyplot as plt\n",
    "#dataset_i = pd.read_csv(r\"C:\\Users\\vanch\\Downloads\\airline-passengers.csv\")\n",
    "dataset = pd.read_csv(r\"C:\\Users\\vanch\\Downloads\\airline-passengers.csv\", usecols=[1])\n",
    "#dataset_i.head()\n",
    "#dataset = dataset_i[\"Passengers\"]"
   ]
  },
  {
   "cell_type": "code",
   "execution_count": 2,
   "id": "da600800",
   "metadata": {},
   "outputs": [
    {
     "data": {
      "image/png": "[encoded data removed]",
      "text/plain": [
       "<Figure size 432x288 with 1 Axes>"
      ]
     },
     "metadata": {
      "needs_background": "light"
     },
     "output_type": "display_data"
    }
   ],
   "source": [
    "plt.plot(dataset, linewidth =2)\n",
    "plt.grid()\n",
    "plt.show()"
   ]
  },
  {
   "cell_type": "code",
   "execution_count": 3,
   "id": "0c8231b2",
   "metadata": {},
   "outputs": [],
   "source": [
    "import numpy as np\n",
    "import math\n",
    "from tensorflow.keras.models import Sequential\n",
    "from tensorflow.keras.layers import Dense\n",
    "from tensorflow.keras.layers import LSTM\n",
    "from sklearn.preprocessing import MinMaxScaler\n",
    "from sklearn.metrics import mean_squared_error\n",
    "\n",
    "np.random.seed(7)"
   ]
  },
  {
   "cell_type": "code",
   "execution_count": 4,
   "id": "d2eef95c",
   "metadata": {},
   "outputs": [],
   "source": [
    "dataset = dataset.values\n",
    "\n"
   ]
  },
  {
   "cell_type": "code",
   "execution_count": 5,
   "id": "490c1658",
   "metadata": {},
   "outputs": [],
   "source": [
    "dataset = dataset.astype('float32')"
   ]
  },
  {
   "cell_type": "code",
   "execution_count": 6,
   "id": "ca3a9530",
   "metadata": {},
   "outputs": [],
   "source": [
    "scaler = MinMaxScaler(feature_range=(0,1))\n",
    "dataset = scaler.fit_transform(dataset)"
   ]
  },
  {
   "cell_type": "code",
   "execution_count": 8,
   "id": "2c90feca",
   "metadata": {},
   "outputs": [
    {
     "name": "stdout",
     "output_type": "stream",
     "text": [
      "100 44\n"
     ]
    }
   ],
   "source": [
    "train_size = int(len(dataset)*0.7)\n",
    "test_size = len(dataset) - train_size\n",
    "train, test = dataset[0:train_size,:], dataset[train_size:len(dataset),:]\n",
    "print(len(train),len(test))"
   ]
  },
  {
   "cell_type": "code",
   "execution_count": 12,
   "id": "15af666b",
   "metadata": {},
   "outputs": [],
   "source": [
    "# Convert an array of values to dataset matrix\n",
    "\n",
    "def create_dataset(dataset, look_back = 1):\n",
    "    dataX,dataY = [],[]\n",
    "    for i in range(len(dataset) - look_back -1):\n",
    "        a = dataset[i:(i+look_back),0]\n",
    "        dataX.append(a)\n",
    "        dataY.append(dataset[i+look_back,0])\n",
    "    return np.array(dataX), np.array(dataY)\n"
   ]
  },
  {
   "cell_type": "code",
   "execution_count": 14,
   "id": "f17fc589",
   "metadata": {},
   "outputs": [],
   "source": [
    "X,Y = create_dataset(dataset)"
   ]
  },
  {
   "cell_type": "code",
   "execution_count": 19,
   "id": "89e48ee3",
   "metadata": {},
   "outputs": [
    {
     "name": "stdout",
     "output_type": "stream",
     "text": [
      "<generator object <genexpr> at 0x0000021407CF58C8>\n"
     ]
    }
   ],
   "source": [
    "print((X[i],Y[i]) for i in range(len(X)))"
   ]
  },
  {
   "cell_type": "code",
   "execution_count": 20,
   "id": "d6e8f532",
   "metadata": {},
   "outputs": [],
   "source": [
    "look_back = 1\n",
    "trainX, trainY = create_dataset(train, look_back)\n",
    "testX, testY = create_dataset(test, look_back)"
   ]
  },
  {
   "cell_type": "code",
   "execution_count": 22,
   "id": "281fab15",
   "metadata": {},
   "outputs": [],
   "source": [
    "# Reshape into [sample, time_step, features]\n",
    "trainX = np.reshape(trainX, (trainX.shape[0], 1, trainX.shape[1]))\n",
    "testX = np.reshape(testX,(testX.shape[0], 1, testX.shape[1]))"
   ]
  },
  {
   "cell_type": "code",
   "execution_count": 25,
   "id": "6861b781",
   "metadata": {},
   "outputs": [
    {
     "data": {
      "text/plain": [
       "(98, 1, 1)"
      ]
     },
     "execution_count": 25,
     "metadata": {},
     "output_type": "execute_result"
    }
   ],
   "source": [
    "trainX.shape"
   ]
  },
  {
   "cell_type": "code",
   "execution_count": 26,
   "id": "b2cd4ea9",
   "metadata": {},
   "outputs": [
    {
     "name": "stdout",
     "output_type": "stream",
     "text": [
      "Epoch 1/100\n",
      "98/98 - 19s - loss: 0.0324\n",
      "Epoch 2/100\n",
      "98/98 - 0s - loss: 0.0150\n",
      "Epoch 3/100\n",
      "98/98 - 0s - loss: 0.0114\n",
      "Epoch 4/100\n",
      "98/98 - 0s - loss: 0.0105\n",
      "Epoch 5/100\n",
      "98/98 - 0s - loss: 0.0096\n",
      "Epoch 6/100\n",
      "98/98 - 0s - loss: 0.0086\n",
      "Epoch 7/100\n",
      "98/98 - 0s - loss: 0.0079\n",
      "Epoch 8/100\n",
      "98/98 - 0s - loss: 0.0069\n",
      "Epoch 9/100\n",
      "98/98 - 0s - loss: 0.0060\n",
      "Epoch 10/100\n",
      "98/98 - 0s - loss: 0.0052\n",
      "Epoch 11/100\n",
      "98/98 - 0s - loss: 0.0044\n",
      "Epoch 12/100\n",
      "98/98 - 0s - loss: 0.0039\n",
      "Epoch 13/100\n",
      "98/98 - 0s - loss: 0.0033\n",
      "Epoch 14/100\n",
      "98/98 - 0s - loss: 0.0030\n",
      "Epoch 15/100\n",
      "98/98 - 0s - loss: 0.0027\n",
      "Epoch 16/100\n",
      "98/98 - 0s - loss: 0.0025\n",
      "Epoch 17/100\n",
      "98/98 - 0s - loss: 0.0023\n",
      "Epoch 18/100\n",
      "98/98 - 0s - loss: 0.0022\n",
      "Epoch 19/100\n",
      "98/98 - 0s - loss: 0.0022\n",
      "Epoch 20/100\n",
      "98/98 - 0s - loss: 0.0022\n",
      "Epoch 21/100\n",
      "98/98 - 0s - loss: 0.0021\n",
      "Epoch 22/100\n",
      "98/98 - 0s - loss: 0.0021\n",
      "Epoch 23/100\n",
      "98/98 - 0s - loss: 0.0021\n",
      "Epoch 24/100\n",
      "98/98 - 0s - loss: 0.0022\n",
      "Epoch 25/100\n",
      "98/98 - 0s - loss: 0.0021\n",
      "Epoch 26/100\n",
      "98/98 - 0s - loss: 0.0022\n",
      "Epoch 27/100\n",
      "98/98 - 0s - loss: 0.0021\n",
      "Epoch 28/100\n",
      "98/98 - 0s - loss: 0.0021\n",
      "Epoch 29/100\n",
      "98/98 - 0s - loss: 0.0022\n",
      "Epoch 30/100\n",
      "98/98 - 0s - loss: 0.0022\n",
      "Epoch 31/100\n",
      "98/98 - 0s - loss: 0.0021\n",
      "Epoch 32/100\n",
      "98/98 - 0s - loss: 0.0022\n",
      "Epoch 33/100\n",
      "98/98 - 0s - loss: 0.0021\n",
      "Epoch 34/100\n",
      "98/98 - 0s - loss: 0.0021\n",
      "Epoch 35/100\n",
      "98/98 - 0s - loss: 0.0021\n",
      "Epoch 36/100\n",
      "98/98 - 0s - loss: 0.0021\n",
      "Epoch 37/100\n",
      "98/98 - 0s - loss: 0.0022\n",
      "Epoch 38/100\n",
      "98/98 - 0s - loss: 0.0021\n",
      "Epoch 39/100\n",
      "98/98 - 0s - loss: 0.0021\n",
      "Epoch 40/100\n",
      "98/98 - 0s - loss: 0.0021\n",
      "Epoch 41/100\n",
      "98/98 - 0s - loss: 0.0021\n",
      "Epoch 42/100\n",
      "98/98 - 0s - loss: 0.0021\n",
      "Epoch 43/100\n",
      "98/98 - 0s - loss: 0.0021\n",
      "Epoch 44/100\n",
      "98/98 - 0s - loss: 0.0021\n",
      "Epoch 45/100\n",
      "98/98 - 0s - loss: 0.0021\n",
      "Epoch 46/100\n",
      "98/98 - 0s - loss: 0.0022\n",
      "Epoch 47/100\n",
      "98/98 - 0s - loss: 0.0021\n",
      "Epoch 48/100\n",
      "98/98 - 0s - loss: 0.0021\n",
      "Epoch 49/100\n",
      "98/98 - 0s - loss: 0.0021\n",
      "Epoch 50/100\n",
      "98/98 - 0s - loss: 0.0021\n",
      "Epoch 51/100\n",
      "98/98 - 0s - loss: 0.0021\n",
      "Epoch 52/100\n",
      "98/98 - 0s - loss: 0.0021\n",
      "Epoch 53/100\n",
      "98/98 - 0s - loss: 0.0021\n",
      "Epoch 54/100\n",
      "98/98 - 0s - loss: 0.0021\n",
      "Epoch 55/100\n",
      "98/98 - 0s - loss: 0.0021\n",
      "Epoch 56/100\n",
      "98/98 - 0s - loss: 0.0021\n",
      "Epoch 57/100\n",
      "98/98 - 0s - loss: 0.0022\n",
      "Epoch 58/100\n",
      "98/98 - 0s - loss: 0.0021\n",
      "Epoch 59/100\n",
      "98/98 - 0s - loss: 0.0021\n",
      "Epoch 60/100\n",
      "98/98 - 0s - loss: 0.0021\n",
      "Epoch 61/100\n",
      "98/98 - 0s - loss: 0.0021\n",
      "Epoch 62/100\n",
      "98/98 - 0s - loss: 0.0021\n",
      "Epoch 63/100\n",
      "98/98 - 0s - loss: 0.0021\n",
      "Epoch 64/100\n",
      "98/98 - 0s - loss: 0.0020\n",
      "Epoch 65/100\n",
      "98/98 - 0s - loss: 0.0021\n",
      "Epoch 66/100\n",
      "98/98 - 0s - loss: 0.0021\n",
      "Epoch 67/100\n",
      "98/98 - 0s - loss: 0.0021\n",
      "Epoch 68/100\n",
      "98/98 - 0s - loss: 0.0021\n",
      "Epoch 69/100\n",
      "98/98 - 0s - loss: 0.0021\n",
      "Epoch 70/100\n",
      "98/98 - 0s - loss: 0.0021\n",
      "Epoch 71/100\n",
      "98/98 - 0s - loss: 0.0020\n",
      "Epoch 72/100\n",
      "98/98 - 0s - loss: 0.0021\n",
      "Epoch 73/100\n",
      "98/98 - 0s - loss: 0.0021\n",
      "Epoch 74/100\n",
      "98/98 - 0s - loss: 0.0021\n",
      "Epoch 75/100\n",
      "98/98 - 0s - loss: 0.0021\n",
      "Epoch 76/100\n",
      "98/98 - 0s - loss: 0.0021\n",
      "Epoch 77/100\n",
      "98/98 - 0s - loss: 0.0021\n",
      "Epoch 78/100\n",
      "98/98 - 0s - loss: 0.0021\n",
      "Epoch 79/100\n",
      "98/98 - 0s - loss: 0.0021\n",
      "Epoch 80/100\n",
      "98/98 - 0s - loss: 0.0021\n",
      "Epoch 81/100\n",
      "98/98 - 0s - loss: 0.0021\n",
      "Epoch 82/100\n",
      "98/98 - 0s - loss: 0.0020\n",
      "Epoch 83/100\n",
      "98/98 - 0s - loss: 0.0021\n",
      "Epoch 84/100\n",
      "98/98 - 0s - loss: 0.0022\n",
      "Epoch 85/100\n",
      "98/98 - 0s - loss: 0.0021\n",
      "Epoch 86/100\n",
      "98/98 - 0s - loss: 0.0021\n",
      "Epoch 87/100\n",
      "98/98 - 0s - loss: 0.0021\n",
      "Epoch 88/100\n",
      "98/98 - 0s - loss: 0.0021\n",
      "Epoch 89/100\n",
      "98/98 - 0s - loss: 0.0021\n",
      "Epoch 90/100\n",
      "98/98 - 0s - loss: 0.0021\n",
      "Epoch 91/100\n",
      "98/98 - 0s - loss: 0.0021\n",
      "Epoch 92/100\n",
      "98/98 - 0s - loss: 0.0021\n",
      "Epoch 93/100\n",
      "98/98 - 0s - loss: 0.0021\n",
      "Epoch 94/100\n",
      "98/98 - 0s - loss: 0.0021\n",
      "Epoch 95/100\n",
      "98/98 - 0s - loss: 0.0020\n",
      "Epoch 96/100\n",
      "98/98 - 0s - loss: 0.0021\n",
      "Epoch 97/100\n",
      "98/98 - 0s - loss: 0.0022\n",
      "Epoch 98/100\n",
      "98/98 - 0s - loss: 0.0021\n",
      "Epoch 99/100\n",
      "98/98 - 0s - loss: 0.0021\n",
      "Epoch 100/100\n",
      "98/98 - 0s - loss: 0.0021\n"
     ]
    }
   ],
   "source": [
    "#creating LSTM\n",
    "\n",
    "model = Sequential()\n",
    "model.add(LSTM(4, input_shape= (1,look_back)))\n",
    "model.add(Dense(1))\n",
    "model.compile(loss='mean_squared_error', optimizer = 'adam')\n",
    "hist = model.fit(trainX, trainY, epochs = 100, batch_size = 1, verbose =2)"
   ]
  },
  {
   "cell_type": "code",
   "execution_count": 27,
   "id": "4dc73614",
   "metadata": {},
   "outputs": [],
   "source": [
    "trainPredict = model.predict(trainX)\n",
    "testPredict = model.predict(testX)\n",
    "\n"
   ]
  },
  {
   "cell_type": "code",
   "execution_count": 33,
   "id": "e98a5a9e",
   "metadata": {},
   "outputs": [
    {
     "name": "stdout",
     "output_type": "stream",
     "text": [
      "Train Score: 23.25 RMSE\n",
      "Test Score: 50.28 RMSE\n"
     ]
    }
   ],
   "source": [
    "# make predictions\n",
    "trainPredict = model.predict(trainX)\n",
    "testPredict = model.predict(testX)\n",
    "# invert predictions\n",
    "trainPredict = scaler.inverse_transform(trainPredict)\n",
    "trainY = scaler.inverse_transform([trainY])\n",
    "testPredict = scaler.inverse_transform(testPredict)\n",
    "testY = scaler.inverse_transform([testY])\n",
    "# calculate root mean squared error\n",
    "trainScore = math.sqrt(mean_squared_error(trainY[0], trainPredict[:,0]))\n",
    "print('Train Score: %.2f RMSE' % (trainScore))\n",
    "testScore = math.sqrt(mean_squared_error(testY[0], testPredict[:,0]))\n",
    "print('Test Score: %.2f RMSE' % (testScore))"
   ]
  },
  {
   "cell_type": "code",
   "execution_count": 44,
   "id": "4eef533f",
   "metadata": {},
   "outputs": [
    {
     "data": {
      "image/png": "[encoded data removed]",
      "text/plain": [
       "<Figure size 432x288 with 1 Axes>"
      ]
     },
     "metadata": {
      "needs_background": "light"
     },
     "output_type": "display_data"
    }
   ],
   "source": [
    "\n",
    "# shift train predictions for plotting\n",
    "trainPredictPlot = np.empty_like(dataset)\n",
    "trainPredictPlot[:, :] = np.nan\n",
    "trainPredictPlot[look_back:len(trainPredict)+look_back, :] = trainPredict\n",
    "# shift test predictions for plotting\n",
    "testPredictPlot = np.empty_like(dataset)\n",
    "testPredictPlot[:, :] = np.nan\n",
    "testPredictPlot[len(trainPredict)+(look_back*2)+1:len(dataset)-1, :] = testPredict\n",
    "# plot baseline and predictions\n",
    "plt.plot(scaler.inverse_transform(dataset))\n",
    "plt.plot(trainPredictPlot, lw =2,color = 'red', label = \"Actual\")\n",
    "plt.plot(testPredictPlot, lw =2, color = 'blue', label = \"Predicted\")\n",
    "plt.xlim([0,80])\n",
    "plt.ylim([0,300])\n",
    "plt.legend()\n",
    "plt.show()"
   ]
  },
  {
   "cell_type": "code",
   "execution_count": null,
   "id": "6fe5968c",
   "metadata": {},
   "outputs": [],
   "source": []
  }
 ],
 "metadata": {
  "kernelspec": {
   "display_name": "Python 3 (ipykernel)",
   "language": "python",
   "name": "python3"
  },
  "language_info": {
   "codemirror_mode": {
    "name": "ipython",
    "version": 3
   },
   "file_extension": ".py",
   "mimetype": "text/x-python",
   "name": "python",
   "nbconvert_exporter": "python",
   "pygments_lexer": "ipython3",
   "version": "3.7.13"
  }
 },
 "nbformat": 4,
 "nbformat_minor": 5
}
