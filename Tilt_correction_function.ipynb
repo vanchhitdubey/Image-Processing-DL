{
 "cells": [
  {
   "cell_type": "code",
   "execution_count": null,
   "id": "184cd3a0",
   "metadata": {},
   "outputs": [],
   "source": [
    "def tilt_correction(image):\n",
    "    import numpy\n",
    "    \n",
    "    \n",
    "    img=image.astype(numpy.uint8)\n",
    "    #print(img.shape)\n",
    "    #img = cv2.cvtColor(img, cv2.COLOR_BGR2GRAY )\n",
    "    ret, thresh1 = cv2.threshold(image, 50, 255, cv2.THRESH_BINARY)\n",
    "    mask=numpy.zeros(img.shape, numpy.uint8)\n",
    "    thresh1 = cv2.cvtColor(thresh1, cv2.COLOR_BGR2GRAY )\n",
    "    #plt.imshow(mask)\n",
    "    contours, hier =cv2.findContours(thresh1,cv2.RETR_EXTERNAL, cv2.CHAIN_APPROX_SIMPLE)\n",
    "\n",
    "\n",
    "    # find the biggest contour (c) by the area\n",
    "#     mask=numpy.zeros (img.shape, numpy.uint8)\n",
    "    print(contours)\n",
    "    c = max(contours, key = cv2.contourArea)\n",
    "  \n",
    "    (x,y),(MA,ma),angle = cv2.fitEllipse(c)\n",
    "\n",
    "    cv2.ellipse(img, ((x,y), (MA,ma), angle), color=(0, 255, 0), thickness=2)\n",
    "\n",
    "    rmajor = max(MA,ma)/2\n",
    "    if angle > 90:\n",
    "        angle -= 90\n",
    "    else:\n",
    "        angle += 96\n",
    "    xtop = x + math.cos(math.radians(angle))*rmajor\n",
    "    ytop = y + math.sin(math.radians(angle))*rmajor\n",
    "    xbot = x + math.cos(math.radians(angle+180))*rmajor\n",
    "    ybot = y + math.sin(math.radians(angle+180))*rmajor\n",
    "    cv2.line(img, (int(xtop),int(ytop)), (int(xbot),int(ybot)), (0, 255, 0), 3)\n",
    "\n",
    "#     pylab.imshow(img)\n",
    "#     pylab.show()\n",
    "\n",
    "    M = cv2.getRotationMatrix2D((x, y), angle-90, 1)  #transformation matrix\n",
    "\n",
    "    return_img = cv2.warpAffine(img, M, (img.shape[1], img.shape[0]), cv2.INTER_CUBIC)\n",
    "\n",
    "    return return_img"
   ]
  }
 ],
 "metadata": {
  "kernelspec": {
   "display_name": "Python 3 (ipykernel)",
   "language": "python",
   "name": "python3"
  },
  "language_info": {
   "codemirror_mode": {
    "name": "ipython",
    "version": 3
   },
   "file_extension": ".py",
   "mimetype": "text/x-python",
   "name": "python",
   "nbconvert_exporter": "python",
   "pygments_lexer": "ipython3",
   "version": "3.7.13"
  }
 },
 "nbformat": 4,
 "nbformat_minor": 5
}
